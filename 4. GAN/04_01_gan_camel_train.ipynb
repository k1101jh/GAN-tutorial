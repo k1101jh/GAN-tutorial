{
 "cells": [
  {
   "cell_type": "code",
   "execution_count": null,
   "metadata": {},
   "outputs": [],
   "source": [
    "import os\n",
    "import numpy as np\n",
    "import torch\n",
    "import torch.optim as optim\n",
    "import torch.nn as nn\n",
    "from torch.utils.data import Dataset, DataLoader\n",
    "from torchvision import datasets, transforms\n",
    "import torchvision.utils as vutils\n",
    "import torch.utils.data as data_utils\n",
    "import matplotlib.pyplot as plt\n",
    "\n",
    "from GAN import Generator, Discriminator"
   ]
  },
  {
   "cell_type": "code",
   "execution_count": null,
   "metadata": {},
   "outputs": [],
   "source": [
    "num_epochs = 6000\n",
    "batch_size = 64\n",
    "d_lr = 8e-4\n",
    "g_lr = 4e-4\n",
    "device = torch.device(\"cuda:0\" if torch.cuda.is_available() else \"cpu\")\n",
    "image_save_path = './images/camel/'\n",
    "os.makedirs(image_save_path, exist_ok=True)"
   ]
  },
  {
   "cell_type": "code",
   "execution_count": null,
   "metadata": {},
   "outputs": [],
   "source": [
    "class MyDataset(Dataset):\n",
    "    def __init__(self, data):\n",
    "        super(MyDataset, self).__init__()\n",
    "        self.data = data\n",
    "        \n",
    "    def __len__(self):\n",
    "        return len(self.data)\n",
    "        \n",
    "    def __getitem__(self, idx):\n",
    "        return self.data[idx]"
   ]
  },
  {
   "cell_type": "code",
   "execution_count": null,
   "metadata": {},
   "outputs": [],
   "source": [
    "train_data = np.load('./data/full_numpy_bitmap_camel.npy')\n",
    "train_data = train_data.reshape(-1, 1, 28, 28)\n",
    "np.random.seed(np.random.randint(1, 10e6))\n",
    "np.random.shuffle(train_data)\n",
    "train_data = torch.from_numpy(train_data[:80000]).float()\n",
    "dataset = MyDataset(train_data)\n",
    "dataloader = DataLoader(dataset,\n",
    "                        shuffle=True,\n",
    "                        batch_size=batch_size,\n",
    "                        num_workers=4,\n",
    "                        pin_memory=True)"
   ]
  },
  {
   "cell_type": "code",
   "execution_count": null,
   "metadata": {},
   "outputs": [],
   "source": [
    "print(train_data.shape)\n",
    "plt.figure(figsize=(20, 20))\n",
    "plt.axis(\"off\")\n",
    "plt.imshow(np.transpose(vutils.make_grid(train_data[:25],\n",
    "                                         nrow=5,\n",
    "                                         padding=2,\n",
    "                                         normalize=True), (1, 2, 0)))\n",
    "plt.savefig(os.path.join(image_save_path, 'original_images.png'))\n",
    "#plt.imshow(train_data[0][0], cmap='gray')"
   ]
  },
  {
   "cell_type": "code",
   "execution_count": null,
   "metadata": {},
   "outputs": [],
   "source": [
    "d_model = Discriminator(\"cuda:0\").to(device)\n",
    "g_model = Generator(\"cuda:0\").to(device)"
   ]
  },
  {
   "cell_type": "code",
   "execution_count": null,
   "metadata": {},
   "outputs": [],
   "source": [
    "print(g_model)"
   ]
  },
  {
   "cell_type": "code",
   "execution_count": null,
   "metadata": {},
   "outputs": [],
   "source": [
    "print(d_model)"
   ]
  },
  {
   "cell_type": "code",
   "execution_count": null,
   "metadata": {},
   "outputs": [],
   "source": [
    "d_criterion = nn.BCELoss()\n",
    "g_criterion = nn.BCELoss()\n",
    "\n",
    "real_label = 1.\n",
    "fake_label = 0.\n",
    "\n",
    "d_optimizer = optim.RMSprop(params=d_model.parameters(), lr=d_lr)\n",
    "g_optimizer = optim.RMSprop(params=g_model.parameters(), lr=g_lr)"
   ]
  },
  {
   "cell_type": "code",
   "execution_count": null,
   "metadata": {},
   "outputs": [],
   "source": [
    "G_losses = []\n",
    "D_losses = []\n",
    "D_losses_real = []\n",
    "D_losses_fake = []\n",
    "D_accs = []\n",
    "D_accs_real = []\n",
    "D_accs_fake = []\n",
    "\n",
    "for epoch in range(num_epochs):\n",
    "    #for i, data in enumerate(dataloader, 0):\n",
    "    data = next(iter(dataloader))\n",
    "    d_model.zero_grad()\n",
    "    \n",
    "    # Discriminator\n",
    "    # 진짜 데이터로 학습\n",
    "    inputs = data.to(device)\n",
    "    b_size = inputs.size(0)\n",
    "    label = torch.full((b_size, ), real_label,\n",
    "                        dtype=torch.float, device=device)\n",
    "    output = d_model(inputs).view(-1)\n",
    "    accD_real = torch.mean(output)\n",
    "    errD_real = d_criterion(output, label)\n",
    "    errD_real.backward()\n",
    "    D_x = output.mean().item()\n",
    "    \n",
    "    # 가짜 데이터로 학습\n",
    "    noise = torch.randn(b_size, 100, device=device)\n",
    "    fake = g_model(noise)\n",
    "    label.fill_(fake_label)\n",
    "    \n",
    "    output = d_model(fake.detach()).view(-1)\n",
    "    accD_fake = 1 - torch.mean(output)\n",
    "    errD_fake = d_criterion(output, label)\n",
    "    errD_fake.backward()\n",
    "    D_G_z1 = output.mean().item()\n",
    "    \n",
    "    accD = (accD_real + accD_fake) * 0.5\n",
    "    errD = (errD_real + errD_fake) * 0.5\n",
    "    d_optimizer.step()\n",
    "    \n",
    "    # Generator\n",
    "    # 업데이트한 discriminator 사용\n",
    "    # discriminator가 fake를 real이라고 판단하면 낮은 loss\n",
    "    # fake를 fake라고 판단하면 높은 loss\n",
    "    g_model.zero_grad()\n",
    "    label.fill_(real_label)\n",
    "    output = d_model(fake).view(-1)\n",
    "    errG = g_criterion(output, label)\n",
    "    errG.backward()\n",
    "    D_G_z2 = output.mean().item()\n",
    "    g_optimizer.step()\n",
    "        \n",
    "    G_losses.append(errG.item())\n",
    "    D_losses.append(errD.item())\n",
    "    D_losses_real.append(errD_real)\n",
    "    D_losses_fake.append(errD_fake)\n",
    "    D_accs.append(accD.item())\n",
    "    D_accs_real.append(accD_real)\n",
    "    D_accs_fake.append(accD_fake)\n",
    "    \n",
    "    print('%d [D loss: (%.3f)(R %.3f, F %.3f)] [D acc: (%.3f)(%.3f, %.3f)] [G loss: %.3f]' %\n",
    "              (epoch, errD, errD_real, errD_fake, accD, accD_real, accD_fake, errG))\n",
    "        \n",
    "    if epoch + 1 in [20, 200, 400, 1000, 2000]:\n",
    "        plt.figure(figsize=(20, 20))\n",
    "        plt.axis(\"off\")\n",
    "        plt.imshow(np.transpose(vutils.make_grid(fake[:25],\n",
    "                                                 nrow=5,\n",
    "                                                 padding=2,\n",
    "                                                 normalize=True).detach().cpu(), (1, 2, 0)))\n",
    "        plt.savefig(os.path.join(image_save_path, f'epoch_{epoch + 1}.png'))\n",
    "        "
   ]
  },
  {
   "cell_type": "code",
   "execution_count": null,
   "metadata": {},
   "outputs": [],
   "source": [
    "fig = plt.figure()\n",
    "plt.plot([x for x in D_losses], color='black', linewidth=0.25)\n",
    "plt.plot([x for x in D_losses_real], color='green', linewidth=0.25)\n",
    "plt.plot([x for x in D_losses_fake], color='red', linewidth=0.25)\n",
    "plt.plot([x for x in G_losses], color='orange', linewidth=0.25)\n",
    "\n",
    "plt.xlabel('batch', fontsize=18)\n",
    "plt.ylabel('loss', fontsize=16)\n",
    "\n",
    "plt.xlim(0, 2000)\n",
    "plt.ylim(0, 2)\n",
    "\n",
    "plt.savefig(os.path.join(image_save_path, 'loss_graph.png'))"
   ]
  },
  {
   "cell_type": "code",
   "execution_count": null,
   "metadata": {},
   "outputs": [],
   "source": [
    "fig = plt.figure()\n",
    "plt.plot([x for x in D_accs], color='black', linewidth=0.25)\n",
    "plt.plot([x for x in D_accs_real], color='green', linewidth=0.25)\n",
    "plt.plot([x for x in D_accs_fake], color='red', linewidth=0.25)\n",
    "\n",
    "plt.xlabel('batch', fontsize=18)\n",
    "plt.ylabel('accuracy', fontsize=16)\n",
    "\n",
    "plt.xlim(0, 2000)\n",
    "\n",
    "plt.savefig(os.path.join(image_save_path, 'accuracy_graph.png'))"
   ]
  },
  {
   "cell_type": "code",
   "execution_count": null,
   "metadata": {},
   "outputs": [],
   "source": []
  }
 ],
 "metadata": {
  "interpreter": {
   "hash": "86945038929e12337cb19f89597171695d197df89cc82498a4710d2d3ad0cdf4"
  },
  "kernelspec": {
   "display_name": "Python 3.6.10 64-bit ('gan_env': conda)",
   "language": "python",
   "name": "python3"
  },
  "language_info": {
   "codemirror_mode": {
    "name": "ipython",
    "version": 3
   },
   "file_extension": ".py",
   "mimetype": "text/x-python",
   "name": "python",
   "nbconvert_exporter": "python",
   "pygments_lexer": "ipython3",
   "version": "3.6.10"
  },
  "orig_nbformat": 4
 },
 "nbformat": 4,
 "nbformat_minor": 2
}
