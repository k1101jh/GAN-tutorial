{
 "cells": [
  {
   "cell_type": "markdown",
   "metadata": {},
   "source": [
    "### 음악 데이터 확인"
   ]
  },
  {
   "cell_type": "code",
   "execution_count": null,
   "metadata": {},
   "outputs": [],
   "source": [
    "from music21 import converter\n",
    "from music21 import environment\n",
    "from music21 import *\n",
    "import os\n",
    "\n",
    "us = environment.UserSettings()\n",
    "us['musicxmlPath'] = r\"C:\\Program Files\\MuseScore 3\\bin\\MuseScore3.exe\"\n",
    "us['musescoreDirectPNGPath'] = r\"C:\\Program Files\\MuseScore 3\\bin\\MuseScore3.exe\"\n"
   ]
  },
  {
   "cell_type": "markdown",
   "metadata": {},
   "source": [
    "### 데이터 다운로드\n",
    "J.S. 바흐 첼로 모음집 미디 데이터를 다음 주소에서 다운로드 받을 수 있습니다. 다운로드할 파일은 cs1-2all.mid 입니다.\n",
    "\n",
    "http://www.jsbach.net/midi/midi_solo_cello.html\n",
    "\n",
    "이 파일을 './data/cello' 폴더 안에 저장하세요."
   ]
  },
  {
   "cell_type": "markdown",
   "metadata": {},
   "source": [
    "### 악보 소프트웨어\n",
    "모델이 생성한 음악을 보거나 들으려면 Musescore 프로그램이 필요합니다. 다음 주소에서 다운로드하세요.\n",
    "\n",
    "https://musescore.org/en\n",
    "\n",
    "Note: 리눅스 버전의 Musescore는 지원이 불안정합니다. Windows나 macOS를 이용하세요."
   ]
  },
  {
   "cell_type": "code",
   "execution_count": null,
   "metadata": {},
   "outputs": [],
   "source": [
    "print(['WindowsPath'])"
   ]
  },
  {
   "cell_type": "markdown",
   "metadata": {},
   "source": [
    "### 데이터 확인"
   ]
  },
  {
   "cell_type": "code",
   "execution_count": null,
   "metadata": {},
   "outputs": [],
   "source": [
    "dataset_name = 'cello'\n",
    "filename = 'cs1-2all'\n",
    "file = \"../data/{}/{}.mid\".format(dataset_name, filename)\n",
    "print(os.path.abspath(file))\n",
    "\n",
    "original_score = converter.parse(file).chordify()"
   ]
  },
  {
   "cell_type": "code",
   "execution_count": null,
   "metadata": {},
   "outputs": [],
   "source": [
    "original_score.show()"
   ]
  },
  {
   "cell_type": "code",
   "execution_count": null,
   "metadata": {},
   "outputs": [],
   "source": [
    "original_score.show('text')"
   ]
  },
  {
   "cell_type": "markdown",
   "metadata": {},
   "source": [
    "### 데이터 추출"
   ]
  },
  {
   "cell_type": "code",
   "execution_count": null,
   "metadata": {},
   "outputs": [],
   "source": [
    "from music21 import chord, note"
   ]
  },
  {
   "cell_type": "code",
   "execution_count": null,
   "metadata": {},
   "outputs": [],
   "source": [
    "notes = []\n",
    "durations = []\n",
    "\n",
    "for element in original_score.flat:\n",
    "    if isinstance(element, chord.Chord):\n",
    "        notes.append('.'.join(n.nameWithOctave for n in element.pitches))\n",
    "        durations.append(element.duration.quarterLength)\n",
    "        \n",
    "    if isinstance(element, note.Note):\n",
    "        if element.isRest:\n",
    "            notes.append(str(element.name))\n",
    "            durations.append(element.duration.quarterLength)\n",
    "        else:\n",
    "            notes.append(str(element.nameWithOctave))\n",
    "            durations.append(element.duration.quarterLength)"
   ]
  },
  {
   "cell_type": "code",
   "execution_count": null,
   "metadata": {},
   "outputs": [],
   "source": [
    "print('\\nduration', 'pitch')\n",
    "for n, d in zip(notes, durations):\n",
    "    print(d, '\\t', n)"
   ]
  }
 ],
 "metadata": {
  "kernelspec": {
   "display_name": "Python 3.7.0 ('gan_env')",
   "language": "python",
   "name": "python3"
  },
  "language_info": {
   "codemirror_mode": {
    "name": "ipython",
    "version": 3
   },
   "file_extension": ".py",
   "mimetype": "text/x-python",
   "name": "python",
   "nbconvert_exporter": "python",
   "pygments_lexer": "ipython3",
   "version": "3.10.0"
  },
  "orig_nbformat": 4,
  "vscode": {
   "interpreter": {
    "hash": "0d96dd6218930269b4cd8feca07fdf09d8d639cf486d090b424fe3934a00b48b"
   }
  }
 },
 "nbformat": 4,
 "nbformat_minor": 2
}
