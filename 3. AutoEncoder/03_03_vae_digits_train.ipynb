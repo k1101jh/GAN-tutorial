{
 "cells": [
  {
   "cell_type": "code",
   "execution_count": null,
   "metadata": {},
   "outputs": [],
   "source": [
    "import torch\n",
    "import numpy as np\n",
    "import torch.nn as nn\n",
    "import torch.optim as optim\n",
    "from torch.utils.data import DataLoader\n",
    "from torchvision import datasets, transforms\n",
    "import torch.utils.data as data_utils\n",
    "import torch.nn.functional as F\n",
    "\n",
    "from vae_auto_encoder import VAEAutoEncoder"
   ]
  },
  {
   "cell_type": "code",
   "execution_count": null,
   "metadata": {},
   "outputs": [],
   "source": [
    "device = \"cuda\" if torch.cuda.is_available() else \"cpu\"\n",
    "print(f\"Using {device} device\")"
   ]
  },
  {
   "cell_type": "code",
   "execution_count": null,
   "metadata": {},
   "outputs": [],
   "source": [
    "num_epochs = 200\n",
    "batch_size = 64\n",
    "learning_rate = 1e-3\n",
    "r_loss_factor = 1000\n",
    "decay_factor = 0.99\n",
    "model_save_path = \"./vae_digits_model.pth\""
   ]
  },
  {
   "cell_type": "code",
   "execution_count": null,
   "metadata": {},
   "outputs": [],
   "source": [
    "train_data = datasets.MNIST(root='./data/',\n",
    "                            train=True,\n",
    "                            download=True,\n",
    "                            transform=transforms.ToTensor())\n",
    "\n",
    "train_loader = DataLoader(dataset=train_data,\n",
    "                          batch_size=batch_size,\n",
    "                          shuffle=True,\n",
    "                          num_workers=4,\n",
    "                          pin_memory=True)"
   ]
  },
  {
   "cell_type": "code",
   "execution_count": null,
   "metadata": {},
   "outputs": [],
   "source": [
    "model = VAEAutoEncoder(num_layers=4,\n",
    "                       encoder_channels=[1, 32, 64, 64, 64],\n",
    "                       encoder_kernel_sizes=[3, 3, 3, 3],\n",
    "                       encoder_strides=[1, 2, 2, 1],\n",
    "                       decoder_channels=[64, 64, 64, 32, 1],\n",
    "                       decoder_kernel_sizes=[3, 3, 3, 3],\n",
    "                       decoder_strides=[1, 2, 2, 1],\n",
    "                       linear_sizes=[3136, 2],\n",
    "                       view_size=[-1, 64, 7, 7],\n",
    "                       use_batch_norm=False,\n",
    "                       use_dropout=False).to(device)\n",
    "model.train()\n",
    "\n",
    "optimizer = optim.Adam(model.parameters(), lr=learning_rate)\n",
    "scheduler = optim.lr_scheduler.LambdaLR(optimizer,\n",
    "                                        lr_lambda=(lambda epoch: decay_factor ** epoch))\n",
    "\n",
    "print(model)"
   ]
  },
  {
   "cell_type": "code",
   "execution_count": null,
   "metadata": {},
   "outputs": [],
   "source": [
    "def vae_kl_loss(mu, log_var):\n",
    "    kl_loss = -0.5 * torch.sum(1 + log_var - mu.pow(2) - log_var.exp(), axis=1)\n",
    "    return torch.mean(kl_loss)\n",
    "\n",
    "r_criterion = nn.MSELoss()"
   ]
  },
  {
   "cell_type": "markdown",
   "metadata": {},
   "source": [
    "Train"
   ]
  },
  {
   "cell_type": "code",
   "execution_count": null,
   "metadata": {},
   "outputs": [],
   "source": [
    "for epoch in range(num_epochs):\n",
    "    running_loss = 0.0\n",
    "    running_r_loss = 0.0\n",
    "    running_kl_loss = 0.0\n",
    "    for inputs, labels in train_loader:\n",
    "        inputs = inputs.to(device)\n",
    "        labels = labels.to(device)\n",
    "        \n",
    "        optimizer.zero_grad()\n",
    "        \n",
    "        with torch.set_grad_enabled(True):\n",
    "            outputs, mu, log_var = model(inputs)\n",
    "            r_loss = r_loss_factor * r_criterion(outputs, inputs)\n",
    "            kl_loss = vae_kl_loss(mu, log_var)\n",
    "            loss = r_loss + kl_loss\n",
    "            loss.backward()\n",
    "            optimizer.step()\n",
    "        \n",
    "        running_loss += loss.item() * inputs.size(0)\n",
    "        running_r_loss += r_loss.item() * inputs.size(0)\n",
    "        running_kl_loss += kl_loss.item() * inputs.size(0)\n",
    "    \n",
    "    scheduler.step()    \n",
    "    epoch_loss = running_loss / len(train_data)\n",
    "    epoch_r_loss = running_r_loss / len(train_data)\n",
    "    epoch_kl_loss = running_kl_loss / len(train_data)\n",
    "    print('Epoch {0:03d}\\tLoss: {1:0.5f}\\tr_loss: {2:0.5f}\\tkl_loss: {3:0.5f}'.format(\n",
    "        epoch, epoch_loss, epoch_r_loss, epoch_kl_loss))\n",
    "\n",
    "    torch.save(model.state_dict(), model_save_path)\n",
    "    "
   ]
  }
 ],
 "metadata": {
  "interpreter": {
   "hash": "86945038929e12337cb19f89597171695d197df89cc82498a4710d2d3ad0cdf4"
  },
  "kernelspec": {
   "display_name": "Python 3.6.10 64-bit ('gan_env': conda)",
   "language": "python",
   "name": "python3"
  },
  "language_info": {
   "codemirror_mode": {
    "name": "ipython",
    "version": 3
   },
   "file_extension": ".py",
   "mimetype": "text/x-python",
   "name": "python",
   "nbconvert_exporter": "python",
   "pygments_lexer": "ipython3",
   "version": "3.6.10"
  },
  "orig_nbformat": 4
 },
 "nbformat": 4,
 "nbformat_minor": 2
}
